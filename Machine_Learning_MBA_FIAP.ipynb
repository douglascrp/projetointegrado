{
 "cells": [
  {
   "cell_type": "markdown",
   "id": "0e8dde89",
   "metadata": {},
   "source": [
    "# Resumo e Prática de Machine Learning (MBA FIAP)\n",
    "Este notebook contém o conteúdo das aulas de Machine Learning do MBA, incluindo teoria, cenários de uso, exemplos práticos e conceitos como overfitting."
   ]
  },
  {
   "cell_type": "markdown",
   "id": "fac0b918",
   "metadata": {},
   "source": [
    "## 📋 Resumo das Aulas\n",
    "| Aula         | Tópico                        | Resumo |\n",
    "|--------------|-------------------------------|--------|\n",
    "| Aula 0       | Introdução ao ML              | Conceitos básicos, ciclo de vida de dados e modelos, perfis profissionais, importância dos dados. |\n",
    "| Aula 1       | Tipos de Analytics            | Descritivo, Diagnóstico, Preditivo, Prescritivo. Diferenças e aplicações no negócio. |\n",
    "| Aula 1       | Tipos de Aprendizado          | Supervisionado, não supervisionado, reforço. Exemplos e aplicações. |\n",
    "| Aula 1       | Ciclo de vida do modelo       | Definição do caso de uso, aquisição de dados, seleção de algoritmo, construção, validação, implantação. |\n",
    "| Aula 2       | SVM (Support Vector Machines) | Algoritmo de classificação que busca o hiperplano de maior margem. Uso de kernels para dados não lineares. |\n",
    "| Aula 2       | Métricas de Avaliação         | Matriz de confusão, acurácia, precision, recall, F1-score, ROC e AUC. |\n",
    "| Aula 3       | K-means                       | Algoritmo de agrupamento particional. Sensível à inicialização, bom para clusters esféricos. |\n",
    "| Aula 3       | Hierarchical Clustering       | Agrupamento hierárquico (bottom-up/top-down), uso de dendrogramas, estratégias de linkage. |\n",
    "| Aula 3       | DBSCAN                        | Algoritmo de agrupamento por densidade, identifica clusters de formas arbitrárias e outliers. |\n",
    "| Aula 4       | CART (Árvores de Decisão)     | Algoritmo para classificação e regressão. Usa métricas como Gini e RSS/MSE. Pruning para evitar overfitting. |\n",
    "| Aula 5       | Ensemble Methods              | Combinação de modelos para melhorar performance. Bagging, Boosting, Voting. |\n",
    "| Aula 5       | Random Forest                 | Ensemble de árvores de decisão com amostragem bootstrap e seleção aleatória de features. |\n",
    "| Aula 6       | XGBoost                       | Algoritmo de boosting eficiente, regularização L1/L2, otimizações para grandes volumes de dados. |\n",
    "| Aula 7       | LightGBM                      | Boosting baseado em árvores, otimizações GOSS e EFB para eficiência e escalabilidade. |\n",
    "| Regularização| Ridge, Lasso, Elastic Net     | Técnicas para evitar overfitting em modelos lineares, penalizando coeficientes (L2, L1, combinação). |"
   ]
  },
  {
   "cell_type": "markdown",
   "id": "9de29b22",
   "metadata": {},
   "source": [
    "## 🧠 Overfitting\n",
    "Overfitting ocorre quando um modelo aprende não só os padrões reais dos dados de treinamento, mas também o “ruído” ou as particularidades específicas desses dados. Isso faz com que o modelo tenha um desempenho excelente nos dados de treino, mas ruim em dados novos.\n",
    "\n",
    "### Como evitar?\n",
    "- Usar validação cruzada.\n",
    "- Regularização.\n",
    "- Reduzir a complexidade do modelo.\n",
    "- Aumentar a quantidade de dados de treino.\n",
    "\n",
    "Abaixo, um exemplo visual com regressão polinomial."
   ]
  },
  {
   "cell_type": "code",
   "execution_count": null,
   "id": "79e257f3",
   "metadata": {},
   "outputs": [],
   "source": [
    "import numpy as np\n",
    "import matplotlib.pyplot as plt\n",
    "from sklearn.linear_model import LinearRegression\n",
    "from sklearn.preprocessing import PolynomialFeatures\n",
    "from sklearn.metrics import mean_squared_error\n",
    "from sklearn.model_selection import train_test_split\n",
    "\n",
    "np.random.seed(0)\n",
    "X = np.linspace(0, 1, 15).reshape(-1, 1)\n",
    "y = np.sin(2 * np.pi * X).ravel() + np.random.normal(0, 0.15, X.shape[0])\n",
    "\n",
    "X_train, X_test, y_train, y_test = train_test_split(X, y, test_size=0.4, random_state=42)\n",
    "degrees = [1, 4, 12]\n",
    "plt.figure(figsize=(12, 4))\n",
    "\n",
    "for i, d in enumerate(degrees):\n",
    "    poly = PolynomialFeatures(degree=d)\n",
    "    X_train_poly = poly.fit_transform(X_train)\n",
    "    X_test_poly = poly.transform(X_test)\n",
    "    model = LinearRegression()\n",
    "    model.fit(X_train_poly, y_train)\n",
    "    y_train_pred = model.predict(X_train_poly)\n",
    "    y_test_pred = model.predict(X_test_poly)\n",
    "    plt.subplot(1, 3, i+1)\n",
    "    plt.scatter(X_train, y_train, color='blue', label='Treino')\n",
    "    plt.scatter(X_test, y_test, color='red', label='Teste')\n",
    "    X_plot = np.linspace(0, 1, 100).reshape(-1, 1)\n",
    "    plt.plot(X_plot, model.predict(poly.transform(X_plot)), color='green')\n",
    "    plt.title(f'Grau {d}\n",
    "Erro treino: {mean_squared_error(y_train, y_train_pred):.2f}\n",
    "Erro teste: {mean_squared_error(y_test, y_test_pred):.2f}')\n",
    "    plt.legend()\n",
    "\n",
    "plt.tight_layout()\n",
    "plt.show()"
   ]
  }
 ],
 "metadata": {},
 "nbformat": 4,
 "nbformat_minor": 5
}
