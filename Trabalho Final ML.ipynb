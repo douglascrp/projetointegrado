{
 "cells": [
  {
   "cell_type": "markdown",
   "id": "7bfe563f-2354-41f1-9a01-ed484767ed11",
   "metadata": {},
   "source": [
    "# Trabalho Final - Machine Learning\n",
    "\n",
    "* integrante 1\n",
    "* integrante 2\n",
    "* integrante 3\n",
    "* integrante 4"
   ]
  },
  {
   "cell_type": "markdown",
   "id": "785145b6-ec24-45e8-a6db-c9b65c177dca",
   "metadata": {},
   "source": [
    "Neste trabalho, como parte do time de analistas da Quantum Finance, vocês deverão explorar uma base de dados originalmente utilizada para classificação de score de crédito, disponível no Kaggle (https://www.kaggle.com/datasets/parisrohan/credit-score-classification), utilizando técnicas de Análise Exploratória de Dados (EDA) e algoritmos de Machine Learning supervisionados. \n",
    "\n",
    "\n",
    "O objetivo é aplicar e interpretar os resultados obtidos, assim como criar um sistema que gere valor a partir da análise da base de dados.\n",
    "\n",
    "**Modelo de Classificação Supervisionada**\n",
    "\n",
    "\n",
    "Desenvolver um modelo de classificação supervisionada para prever a classificação de crédito dos indivíduos presentes na base.\n",
    "\n",
    "\n",
    "Passos esperados:\n",
    "\n",
    "1. Realizar uma análise exploratória dos dados (EDA) para entender as características principais da base e as relações entre variáveis; 2 pontos\n",
    "\n",
    "2. Implementar um pipeline de modelo de classificação usando Random Forest, XGBoost e LightGBM. Use GridSearch para otimizar os parametros de cada modelo; 4 pontos\n",
    "\n",
    "3. Avaliar os resultados utilizando a métrica mais adequada e **justifique** sua escolha; 2 pontos\n",
    "\n",
    "4. Apresentar os resultados, indicando a métrica no conjunto de treino (train.csv) e explicar como o modelo pode ser utilizado para decisões financeiras. 2 pontos\n",
    "\n",
    "\n",
    "Entregáveis:\n",
    "\n",
    "1. Este jupyter notebook executado e com os resultados aparentes (não serão aceitos outros formatos)"
   ]
  },
  {
   "cell_type": "code",
   "execution_count": null,
   "id": "ab490dd2-d65b-4834-bc2e-43bd4ba2270c",
   "metadata": {},
   "outputs": [],
   "source": []
  }
 ],
 "metadata": {
  "kernelspec": {
   "display_name": "Python 3 (ipykernel)",
   "language": "python",
   "name": "python3"
  },
  "language_info": {
   "codemirror_mode": {
    "name": "ipython",
    "version": 3
   },
   "file_extension": ".py",
   "mimetype": "text/x-python",
   "name": "python",
   "nbconvert_exporter": "python",
   "pygments_lexer": "ipython3",
   "version": "3.10.9"
  }
 },
 "nbformat": 4,
 "nbformat_minor": 5
}
